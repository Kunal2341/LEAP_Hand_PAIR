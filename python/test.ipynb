{
 "cells": [
  {
   "cell_type": "code",
   "execution_count": 3,
   "metadata": {},
   "outputs": [
    {
     "name": "stdout",
     "output_type": "stream",
     "text": [
      "Collecting dynamixel-sdk\n",
      "  Downloading dynamixel_sdk-3.7.31-py3-none-any.whl (23 kB)\n",
      "Collecting pyserial (from dynamixel-sdk)\n",
      "  Downloading pyserial-3.5-py2.py3-none-any.whl (90 kB)\n",
      "\u001b[2K     \u001b[90m━━━━━━━━━━━━━━━━━━━━━━━━━━━━━━━━━━━━━━━━\u001b[0m \u001b[32m90.6/90.6 kB\u001b[0m \u001b[31m4.7 MB/s\u001b[0m eta \u001b[36m0:00:00\u001b[0m\n",
      "\u001b[?25hInstalling collected packages: pyserial, dynamixel-sdk\n",
      "Successfully installed dynamixel-sdk-3.7.31 pyserial-3.5\n"
     ]
    }
   ],
   "source": [
    "!pip install dynamixel-sdk"
   ]
  },
  {
   "cell_type": "code",
   "execution_count": 12,
   "metadata": {},
   "outputs": [],
   "source": [
    "import numpy as np\n",
    "\n",
    "from leap_hand_utils.dynamixel_client import *\n",
    "import leap_hand_utils.leap_hand_utils as lhu\n",
    "import time"
   ]
  },
  {
   "cell_type": "code",
   "execution_count": 9,
   "metadata": {},
   "outputs": [],
   "source": [
    "class LeapNode:\n",
    "    def __init__(self):\n",
    "        ####Some parameters\n",
    "        # self.ema_amount = float(rospy.get_param('/leaphand_node/ema', '1.0')) #take only current\n",
    "        self.kP = 600\n",
    "        self.kI = 0\n",
    "        self.kD = 200\n",
    "        self.curr_lim = 350\n",
    "        self.prev_pos = self.pos = self.curr_pos = lhu.allegro_to_LEAPhand(np.zeros(16))\n",
    "           \n",
    "        #You can put the correct port here or have the node auto-search for a hand at the first 3 ports.\n",
    "        self.motors = motors = [0,1,2,3,4,5,6,7,8,9,10,11,12,13,14,15]\n",
    "        try:\n",
    "            self.dxl_client = DynamixelClient(motors, '/dev/ttyUSB0', 4000000)\n",
    "            self.dxl_client.connect()\n",
    "        except Exception:\n",
    "            try:\n",
    "                self.dxl_client = DynamixelClient(motors, '/dev/ttyUSB1', 4000000)\n",
    "                self.dxl_client.connect()\n",
    "            except Exception:\n",
    "                self.dxl_client = DynamixelClient(motors, 'COM13', 4000000)\n",
    "                self.dxl_client.connect()\n",
    "        #Enables position-current control mode and the default parameters, it commands a position and then caps the current so the motors don't overload\n",
    "        self.dxl_client.sync_write(motors, np.ones(len(motors))*5, 11, 1)\n",
    "        self.dxl_client.set_torque_enabled(motors, True)\n",
    "        self.dxl_client.sync_write(motors, np.ones(len(motors)) * self.kP, 84, 2) # Pgain stiffness     \n",
    "        self.dxl_client.sync_write([0,4,8], np.ones(3) * (self.kP * 0.75), 84, 2) # Pgain stiffness for side to side should be a bit less\n",
    "        self.dxl_client.sync_write(motors, np.ones(len(motors)) * self.kI, 82, 2) # Igain\n",
    "        self.dxl_client.sync_write(motors, np.ones(len(motors)) * self.kD, 80, 2) # Dgain damping\n",
    "        self.dxl_client.sync_write([0,4,8], np.ones(3) * (self.kD * 0.75), 80, 2) # Dgain damping for side to side should be a bit less\n",
    "        #Max at current (in unit 1ma) so don't overheat and grip too hard #500 normal or #350 for lite\n",
    "        self.dxl_client.sync_write(motors, np.ones(len(motors)) * self.curr_lim, 102, 2)\n",
    "        self.dxl_client.write_desired_pos(self.motors, self.curr_pos)\n",
    "\n",
    "    #Receive LEAP pose and directly control the robot\n",
    "    def set_leap(self, pose):\n",
    "        self.prev_pos = self.curr_pos\n",
    "        self.curr_pos = np.array(pose)\n",
    "        self.dxl_client.write_desired_pos(self.motors, self.curr_pos)\n",
    "    #allegro compatibility\n",
    "    def set_allegro(self, pose):\n",
    "        pose = lhu.allegro_to_LEAPhand(pose, zeros=False)\n",
    "        self.prev_pos = self.curr_pos\n",
    "        self.curr_pos = np.array(pose)\n",
    "        self.dxl_client.write_desired_pos(self.motors, self.curr_pos)\n",
    "    #Sim compatibility, first read the sim value in range [-1,1] and then convert to leap\n",
    "    def set_ones(self, pose):\n",
    "        pose = lhu.sim_ones_to_LEAPhand(np.array(pose))\n",
    "        self.prev_pos = self.curr_pos\n",
    "        self.curr_pos = np.array(pose)\n",
    "        self.dxl_client.write_desired_pos(self.motors, self.curr_pos)\n",
    "    #read position\n",
    "    def read_pos(self):\n",
    "        return self.dxl_client.read_pos()\n",
    "    #read velocity\n",
    "    def read_vel(self):\n",
    "        return self.dxl_client.read_vel()\n",
    "    #read current\n",
    "    def read_cur(self):\n",
    "        return self.dxl_client.read_cur()\n"
   ]
  },
  {
   "cell_type": "code",
   "execution_count": 11,
   "metadata": {},
   "outputs": [],
   "source": [
    "leap_hand = LeapNode()"
   ]
  },
  {
   "cell_type": "code",
   "execution_count": 15,
   "metadata": {},
   "outputs": [],
   "source": [
    "from dynamixel_sdk import PortHandler, PacketHandler, GroupSyncRead"
   ]
  },
  {
   "cell_type": "code",
   "execution_count": 18,
   "metadata": {},
   "outputs": [],
   "source": [
    "PROTOCOL_VERSION = 2.0\n",
    "BAUDRATE = 4000000  # or any other baud rate supported by your motors\n",
    "DEVICENAME = '/dev/ttyUSB1'  # Check the correct port name for your system\n",
    "MOTOR_IDS = [1, 2, 3, 4] "
   ]
  },
  {
   "cell_type": "code",
   "execution_count": 26,
   "metadata": {},
   "outputs": [],
   "source": [
    "# Control table addresses\n",
    "ADDR_PRESENT_POSITION = 132\n",
    "LEN_PRESENT_POSITION = 4\n",
    "\n",
    "# Initialize PortHandler and PacketHandler instances\n",
    "port_handler = PortHandler(DEVICENAME)\n",
    "packet_handler = PacketHandler(PROTOCOL_VERSION)\n",
    "\n",
    "# Open port\n",
    "if not port_handler.openPort():\n",
    "    print(\"Failed to open the port.\")\n",
    "    raise SystemExit\n",
    "\n",
    "# Set port baudrate\n",
    "if not port_handler.setBaudRate(BAUDRATE):\n",
    "    print(\"Failed to set the baudrate.\")\n",
    "    raise SystemExit\n",
    "\n",
    "# Initialize GroupSyncRead for reading present positions\n",
    "group_sync_read = GroupSyncRead(port_handler, packet_handler, ADDR_PRESENT_POSITION, LEN_PRESENT_POSITION)\n",
    "\n",
    "# Add parameter storage for the present position value of each motor\n",
    "for motor_id in MOTOR_IDS:\n",
    "    group_sync_read.addParam(motor_id)\n",
    "\n"
   ]
  },
  {
   "cell_type": "code",
   "execution_count": 27,
   "metadata": {},
   "outputs": [
    {
     "name": "stdout",
     "output_type": "stream",
     "text": [
      "0\n"
     ]
    },
    {
     "ename": "NameError",
     "evalue": "name 'COMM_SUCCESS' is not defined",
     "output_type": "error",
     "traceback": [
      "\u001b[0;31m---------------------------------------------------------------------------\u001b[0m",
      "\u001b[0;31mNameError\u001b[0m                                 Traceback (most recent call last)",
      "Cell \u001b[0;32mIn[27], line 6\u001b[0m\n\u001b[1;32m      4\u001b[0m dxl_comm_result \u001b[38;5;241m=\u001b[39m group_sync_read\u001b[38;5;241m.\u001b[39mtxRxPacket()\n\u001b[1;32m      5\u001b[0m \u001b[38;5;28mprint\u001b[39m(dxl_comm_result)\n\u001b[0;32m----> 6\u001b[0m \u001b[38;5;28;01mif\u001b[39;00m dxl_comm_result \u001b[38;5;241m!=\u001b[39m COMM_SUCCESS:\n\u001b[1;32m      7\u001b[0m     \u001b[38;5;28mprint\u001b[39m(packet_handler\u001b[38;5;241m.\u001b[39mgetTxRxResult(dxl_comm_result))\n\u001b[1;32m      9\u001b[0m positions \u001b[38;5;241m=\u001b[39m []\n",
      "\u001b[0;31mNameError\u001b[0m: name 'COMM_SUCCESS' is not defined"
     ]
    }
   ],
   "source": [
    "try:\n",
    "    while True:\n",
    "        # Perform synchronized read of the current positions\n",
    "        dxl_comm_result = group_sync_read.txRxPacket()\n",
    "        print(dxl_comm_result)\n",
    "        if dxl_comm_result != COMM_SUCCESS:\n",
    "            print(packet_handler.getTxRxResult(dxl_comm_result))\n",
    "\n",
    "        positions = []\n",
    "        for motor_id in MOTOR_IDS:\n",
    "            # Check if data is available for each motor\n",
    "            dxl_getdata_result = group_sync_read.isAvailable(motor_id, ADDR_PRESENT_POSITION, LEN_PRESENT_POSITION)\n",
    "            if dxl_getdata_result != True:\n",
    "                print(f\"Failed to get position data for motor {motor_id}\")\n",
    "                continue\n",
    "            \n",
    "            # Get present position data\n",
    "            dxl_present_position = group_sync_read.getData(motor_id, ADDR_PRESENT_POSITION, LEN_PRESENT_POSITION)\n",
    "            positions.append(dxl_present_position)\n",
    "        \n",
    "        print(f\"Current Positions: {positions}\")\n",
    "        time.sleep(1)  # Adjust the sleep time as needed\n",
    "\n",
    "except KeyboardInterrupt:\n",
    "    print(\"Process interrupted by user.\")\n",
    "finally:\n",
    "    # Close port\n",
    "    port_handler.closePort()"
   ]
  },
  {
   "cell_type": "code",
   "execution_count": null,
   "metadata": {},
   "outputs": [],
   "source": []
  }
 ],
 "metadata": {
  "kernelspec": {
   "display_name": "Python 3",
   "language": "python",
   "name": "python3"
  },
  "language_info": {
   "codemirror_mode": {
    "name": "ipython",
    "version": 3
   },
   "file_extension": ".py",
   "mimetype": "text/x-python",
   "name": "python",
   "nbconvert_exporter": "python",
   "pygments_lexer": "ipython3",
   "version": "3.12.1"
  }
 },
 "nbformat": 4,
 "nbformat_minor": 2
}
